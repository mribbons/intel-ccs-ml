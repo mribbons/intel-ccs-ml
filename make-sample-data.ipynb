{
 "cells": [
  {
   "cell_type": "code",
   "execution_count": null,
   "metadata": {
    "collapsed": true
   },
   "outputs": [],
   "source": [
    "import random\n",
    "random = random.SystemRandom()\n",
    "random.randint(0,100)\n",
    "import os\n",
    "import shutil\n",
    "root_path=\"data\"\n",
    "train_path=root_path+\"/train\"\n",
    "valid_path=root_path+\"/sample/train\"\n",
    "#valid_path=root_path+\"/sample/valid\"\n",
    "\n",
    "categories = [\"/Type_1\", \"/Type_2\", \"/Type_3\"]\n",
    "\n",
    "set_percentage_train=0.15\n",
    "set_percentage_valid=0.05\n",
    "set_percentage=set_percentage_train\n",
    "#set_percentage=set_percentage_valid\n",
    "\n",
    "\n",
    "for category in categories[:]:\n",
    "    \n",
    "    if not os.path.isdir(valid_path + category):\n",
    "        print(\"mkdir \" + valid_path + category)\n",
    "        os.makedirs(valid_path + category)\n",
    "    \n",
    "    files=os.listdir(train_path+category)\n",
    "    dest_count=len(os.listdir(valid_path+category))\n",
    "    target_required=int(len(files)*set_percentage)\n",
    "\n",
    "    i = dest_count\n",
    "    \n",
    "    print(\"required: %d, (%d)\" % (target_required, len(files)))\n",
    "\n",
    "    while (i < target_required) and len(files) > 0:\n",
    "        index = random.randint(0, len(files)-1)\n",
    "        #print(\"cp \" + train_path + category + \"/\" + files[index] + \" \" + valid_path + category + \"/\" + files[index])\n",
    "        shutil.move(train_path + category + \"/\" + files[index], valid_path + category + \"/\" + files[index])\n",
    "        files=os.listdir(train_path+category)\n",
    "        i=i+1\n",
    "\n",
    "    dest_count=len(os.listdir(valid_path+category))\n",
    "    print(\"%s count: %d\" % (valid_path+category, dest_count))\n"
   ]
  }
 ],
 "metadata": {
  "kernelspec": {
   "display_name": "Python [conda root]",
   "language": "python",
   "name": "conda-root-py"
  },
  "language_info": {
   "codemirror_mode": {
    "name": "ipython",
    "version": 2
   },
   "file_extension": ".py",
   "mimetype": "text/x-python",
   "name": "python",
   "nbconvert_exporter": "python",
   "pygments_lexer": "ipython2",
   "version": "2.7.13"
  }
 },
 "nbformat": 4,
 "nbformat_minor": 2
}
