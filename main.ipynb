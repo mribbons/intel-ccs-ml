{
 "cells": [
  {
   "cell_type": "code",
   "execution_count": null,
   "metadata": {
    "collapsed": true
   },
   "outputs": [],
   "source": [
    "%matplotlib inline"
   ]
  },
  {
   "cell_type": "code",
   "execution_count": null,
   "metadata": {
    "collapsed": true
   },
   "outputs": [],
   "source": [
    "path = \"data/sample/\""
   ]
  },
  {
   "cell_type": "code",
   "execution_count": null,
   "metadata": {
    "collapsed": true
   },
   "outputs": [],
   "source": [
    "from __future__ import division,print_function\n",
    "\n",
    "import os, json\n",
    "from glob import glob\n",
    "import numpy as np\n",
    "np.set_printoptions(precision=4, linewidth=100)\n",
    "from matplotlib import pyplot as plt"
   ]
  },
  {
   "cell_type": "code",
   "execution_count": null,
   "metadata": {
    "collapsed": false
   },
   "outputs": [],
   "source": [
    "import utils; reload(utils)\n",
    "from utils import plots"
   ]
  },
  {
   "cell_type": "code",
   "execution_count": null,
   "metadata": {
    "collapsed": true
   },
   "outputs": [],
   "source": [
    "batch_size=64"
   ]
  },
  {
   "cell_type": "code",
   "execution_count": null,
   "metadata": {
    "collapsed": true
   },
   "outputs": [],
   "source": [
    "# Import our class, and instantiate\n",
    "import vgg16; reload(vgg16)\n",
    "from vgg16 import Vgg16"
   ]
  },
  {
   "cell_type": "code",
   "execution_count": null,
   "metadata": {
    "collapsed": true
   },
   "outputs": [],
   "source": [
    "from keras.callbacks import LearningRateScheduler\n",
    "\n",
    "lr_array = [0.001] # loss: 2.7114 - acc: 0.3990 - val_loss: 1.9025 - val_acc: 0.452\n",
    "#lr_array = [0.05, 0.02, 0.01] # loss: 0.0097 - acc: 0.9938 - val_loss: 0.0790 - val_acc: 0.975\n",
    "#lr_array = [0.05, 0.02, 0.01, 0.001] # loss: 0.7549 - acc: 0.9437 - val_loss: 0.4030 - val_acc: 0.975\n",
    "#lr_array = [0.1, 0.05, 0.01, 0.005, 0.001] # loss: 11.2362 - acc: 0.3029 - val_loss: 11.2606 - val_acc: 0.301 - EPOCH 2\n",
    "#lr_array = [0.0001, 0.001, 0.01, 0.01, 0.01]\n",
    "\n",
    "\n",
    "def learning_rate_callback(epoch):\n",
    "    \n",
    "    \n",
    "    lr_value = float(lr_array[0])\n",
    "    \n",
    "    lr_old = float(vgg.model.optimizer.lr.get_value())\n",
    "    \n",
    "    if epoch >= 1:\n",
    "        lr_value = float(lr_array[1])\n",
    "    \n",
    "    if epoch >= 2:\n",
    "        lr_value = float(lr_array[2])\n",
    "        \n",
    "    if (epoch >= 3 and len(lr_array) > 3):\n",
    "        lr_value = float(lr_array[3])\n",
    "        \n",
    "    vgg.model.optimizer.lr.set_value(lr_value)\n",
    "        \n",
    "    print(\"Update lr %f (was %f) at epoch %d \" % (vgg.model.optimizer.lr.get_value(), lr_old, epoch))\n",
    "        \n",
    "    return float(vgg.model.optimizer.lr.get_value())\n",
    "\n",
    "change_lr = LearningRateScheduler(learning_rate_callback)"
   ]
  },
  {
   "cell_type": "code",
   "execution_count": null,
   "metadata": {
    "collapsed": false
   },
   "outputs": [],
   "source": [
    "print(\"lr array: \")\n",
    "print(lr_array)\n",
    "\n",
    "vgg = Vgg16()\n",
    "# Grab a few images at a time for training and validation.\n",
    "# NB: They must be in subdirectories named based on their category\n",
    "batches = vgg.get_batches(path+'train', batch_size=batch_size)\n",
    "val_batches = vgg.get_batches(path+'valid', batch_size=batch_size*2)\n",
    "vgg.finetune(batches)\n",
    "vgg.fit(batches, val_batches, nb_epoch=len(lr_array), callbacks=[change_lr])\n",
    "os.makedirs(path+'results')\n",
    "vgg.model.save_weights(path+'results/attempt-1.h5')\n",
    "#vgg.model.load_weights(path+'results/ft1.h5')"
   ]
  },
  {
   "cell_type": "code",
   "execution_count": null,
   "metadata": {
    "collapsed": false
   },
   "outputs": [],
   "source": [
    "lr_array = [0.001, 0.001, 0.0001, 0.0001, 0.0001]\n",
    "vgg.fit(batches, val_batches, nb_epoch=len(lr_array), callbacks=[change_lr])"
   ]
  },
  {
   "cell_type": "code",
   "execution_count": null,
   "metadata": {
    "collapsed": true
   },
   "outputs": [],
   "source": []
  }
 ],
 "metadata": {
  "anaconda-cloud": {},
  "kernelspec": {
   "display_name": "Python [conda root]",
   "language": "python",
   "name": "conda-root-py"
  },
  "language_info": {
   "codemirror_mode": {
    "name": "ipython",
    "version": 2
   },
   "file_extension": ".py",
   "mimetype": "text/x-python",
   "name": "python",
   "nbconvert_exporter": "python",
   "pygments_lexer": "ipython2",
   "version": "2.7.13"
  }
 },
 "nbformat": 4,
 "nbformat_minor": 2
}
