{
 "cells": [
  {
   "cell_type": "code",
   "execution_count": null,
   "metadata": {
    "collapsed": true
   },
   "outputs": [],
   "source": [
    "from PIL import Image\n",
    "import os\n",
    "import shutil\n",
    "import fnmatch"
   ]
  },
  {
   "cell_type": "code",
   "execution_count": null,
   "metadata": {
    "collapsed": true
   },
   "outputs": [],
   "source": [
    "def listdir(path):\n",
    "    dirs, files, links = [], [], []\n",
    "    for name in os.listdir(path):\n",
    "        path_name = os.path.join(path, name)\n",
    "        if os.path.isdir(path_name):\n",
    "            dirs.append(name)\n",
    "        elif os.path.isfile(path_name):\n",
    "            files.append(name)\n",
    "        elif os.path.islink(path_name):\n",
    "            links.append(name)\n",
    "    return dirs, files, links"
   ]
  },
  {
   "cell_type": "code",
   "execution_count": null,
   "metadata": {
    "collapsed": false
   },
   "outputs": [],
   "source": [
    "def validate_images(path, n):\n",
    "    dirs, files = listdir(path)[:2]\n",
    "    \n",
    "    indent = ' '*n\n",
    "    \n",
    "    folder, subfolder = os.path.split(path)\n",
    "    \n",
    "    print(indent + subfolder)\n",
    "    \n",
    "    indent = indent + ' '\n",
    "    \n",
    "    for image_path in fnmatch.filter(files, \"*.jpg\"):\n",
    "        try:\n",
    "            image = Image.open(os.path.join(path, image_path))\n",
    "        except BaseException as e:\n",
    "            print(indent + \"failed to open \" + image_path + \": \" + str(e))\n",
    "            print(indent + \"move \" + os.path.join(path, image_path) + \" to \" + os.path.join(path, image_path) + \".bad\")\n",
    "            shutil.move(os.path.join(path, image_path), os.path.join(path, image_path) + \".bad\")\n",
    "        #print(indent + \"item: \" + items)\n",
    "        \n",
    "    \n",
    "    for d in dirs:\n",
    "        validate_images(os.path.join(path, d), n+1)"
   ]
  },
  {
   "cell_type": "code",
   "execution_count": null,
   "metadata": {
    "collapsed": false
   },
   "outputs": [],
   "source": [
    "root_path=\"data\"\n",
    "validate_images(root_path, 0)"
   ]
  }
 ],
 "metadata": {
  "kernelspec": {
   "display_name": "Python [conda root]",
   "language": "python",
   "name": "conda-root-py"
  },
  "language_info": {
   "codemirror_mode": {
    "name": "ipython",
    "version": 2
   },
   "file_extension": ".py",
   "mimetype": "text/x-python",
   "name": "python",
   "nbconvert_exporter": "python",
   "pygments_lexer": "ipython2",
   "version": "2.7.13"
  }
 },
 "nbformat": 4,
 "nbformat_minor": 2
}
